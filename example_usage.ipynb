{
 "cells": [
  {
   "cell_type": "markdown",
   "metadata": {},
   "source": [
    "# cCRE Scatter Plot Example Usage\n",
    "\n",
    "This notebook demonstrates how to use the `create_ccre_scatterplot` function to create interactive scatter plots with JScatter."
   ]
  },
  {
   "cell_type": "code",
   "execution_count": null,
   "metadata": {},
   "outputs": [],
   "source": [
    "import pandas as pd\n",
    "import numpy as np\n",
    "from ccre_scatter import plot_ccres"
   ]
  },
  {
   "cell_type": "markdown",
   "metadata": {},
   "source": [
    "## Create Sample Data\n",
    "\n",
    "Let's create some sample datasets to demonstrate the functionality."
   ]
  },
  {
   "cell_type": "code",
   "execution_count": 2,
   "metadata": {},
   "outputs": [
    {
     "name": "stdout",
     "output_type": "stream",
     "text": [
      "Created datasets with 1000 cCREs\n",
      "Dataset A shape: (1000, 3)\n",
      "Dataset B shape: (1000, 3)\n",
      "Metadata shape: (1000, 6)\n"
     ]
    }
   ],
   "source": [
    "# Create sample cCRE identifiers\n",
    "n_points = 1000\n",
    "ccre_ids = [f\"cCRE_{i:04d}\" for i in range(n_points)]\n",
    "\n",
    "# Dataset A (for Y-axis) - could be gene expression data\n",
    "x = pd.DataFrame(\n",
    "    {\n",
    "        \"cCRE\": ccre_ids,\n",
    "        \"expression_level\": np.random.lognormal(mean=2, sigma=1, size=n_points),\n",
    "        \"tissue_type\": np.random.choice(\n",
    "            [\"brain\", \"liver\", \"heart\", \"lung\"], size=n_points\n",
    "        ),\n",
    "    }\n",
    ")\n",
    "\n",
    "# Dataset B (for X-axis) - could be chromatin accessibility data\n",
    "y = pd.DataFrame(\n",
    "    {\n",
    "        \"cCRE\": ccre_ids,\n",
    "        \"accessibility_score\": np.random.beta(a=2, b=5, size=n_points) * 100,\n",
    "        \"cell_line\": np.random.choice(\n",
    "            [\"K562\", \"HeLa\", \"HEK293\", \"MCF7\"], size=n_points\n",
    "        ),\n",
    "    }\n",
    ")\n",
    "\n",
    "# Metadata describing the cCREs\n",
    "chromosomes = [f\"chr{i}\" for i in range(1, 23)] + [\"chrX\", \"chrY\"]\n",
    "metadata = pd.DataFrame(\n",
    "    {\n",
    "        \"rDHS\": [f\"rDHS_{i:06d}\" for i in range(n_points)],\n",
    "        \"cCRE\": ccre_ids,\n",
    "        \"chrom\": np.random.choice(chromosomes, size=n_points),\n",
    "        \"start\": np.random.randint(1000000, 200000000, size=n_points),\n",
    "        \"end\": lambda df: df[\"start\"] + np.random.randint(200, 2000, size=n_points),\n",
    "        \"class\": np.random.choice(\n",
    "            [\"promoter\", \"enhancer\", \"insulator\", \"silencer\"], size=n_points\n",
    "        ),\n",
    "    }\n",
    ")\n",
    "metadata[\"end\"] = metadata[\"start\"] + np.random.randint(200, 2000, size=n_points)\n",
    "\n",
    "print(f\"Created datasets with {n_points} cCREs\")\n",
    "print(f\"Dataset A shape: {x.shape}\")\n",
    "print(f\"Dataset B shape: {y.shape}\")\n",
    "print(f\"Metadata shape: {metadata.shape}\")"
   ]
  },
  {
   "cell_type": "markdown",
   "metadata": {},
   "source": [
    "## Create Interactive Scatter Plot\n",
    "\n",
    "Now let's create the interactive scatter plot with the metadata table."
   ]
  },
  {
   "cell_type": "code",
   "execution_count": null,
   "metadata": {},
   "outputs": [
    {
     "name": "stdout",
     "output_type": "stream",
     "text": [
      "Data ranges: x=[1.18, 85.69], y=[0.40, 161.80]\n",
      "Shared axis range: [-7.67, 169.87]\n",
      "Connecting to scatter.widget.selection trait\n"
     ]
    },
    {
     "data": {
      "application/vnd.jupyter.widget-view+json": {
       "model_id": "5b7ed5ccc64245e6a5e41baf835ce68b",
       "version_major": 2,
       "version_minor": 0
      },
      "text/plain": [
       "VBox(children=(HTML(value='<h3>cCRE Scatter Plot: Gene Expression vs Chromatin Accessibility</h3>'), HBox(chil…"
      ]
     },
     "metadata": {},
     "output_type": "display_data"
    }
   ],
   "source": [
    "# Create the scatter plot\n",
    "result = plot_ccres(\n",
    "    x=x,\n",
    "    y=y,\n",
    "    metadata=metadata,\n",
    "    join_column=\"cCRE\",  # This is the default\n",
    "    x_name=\"Gene Expression\",\n",
    "    y_name=\"Chromatin Accessibility\",\n",
    "    x_label=\"Accessibility Score\",\n",
    "    y_label=\"Expression Level\",\n",
    ")"
   ]
  },
  {
   "cell_type": "markdown",
   "metadata": {},
   "source": [
    "## Accessing the Results\n",
    "\n",
    "The function returns a dictionary with several useful objects:"
   ]
  },
  {
   "cell_type": "code",
   "execution_count": 4,
   "metadata": {},
   "outputs": [
    {
     "name": "stdout",
     "output_type": "stream",
     "text": [
      "Merged data shape: (1000, 10)\n",
      "Available columns: ['cCRE', 'expression_level', 'tissue_type', 'accessibility_score', 'cell_line', 'rDHS', 'chrom', 'start', 'end', 'class']\n"
     ]
    }
   ],
   "source": [
    "# Access the individual components\n",
    "scatter_plot = result[\"scatter\"]\n",
    "metadata_table = result[\"metadata_table\"]\n",
    "merged_data = result[\"merged_data\"]\n",
    "container = result[\"container\"]\n",
    "\n",
    "print(f\"Merged data shape: {merged_data.shape}\")\n",
    "print(f\"Available columns: {list(merged_data.columns)}\")"
   ]
  },
  {
   "cell_type": "markdown",
   "metadata": {},
   "source": [
    "## Manual Selection Update\n",
    "\n",
    "You can also manually update the metadata table to show specific points:"
   ]
  },
  {
   "cell_type": "code",
   "execution_count": 7,
   "metadata": {},
   "outputs": [],
   "source": [
    "# Example: Show metadata for the first 10 points\n",
    "update_callback = result[\"update_metadata_callback\"]\n",
    "update_callback(selected_indices=list(range(100)))"
   ]
  },
  {
   "cell_type": "markdown",
   "metadata": {},
   "source": [
    "## Using Different Join Columns\n",
    "\n",
    "You can also use a different column for joining the datasets:"
   ]
  },
  {
   "cell_type": "code",
   "execution_count": null,
   "metadata": {},
   "outputs": [
    {
     "name": "stdout",
     "output_type": "stream",
     "text": [
      "Data ranges: x=[1.18, 85.69], y=[0.40, 161.80]\n",
      "Shared axis range: [-7.67, 169.87]\n",
      "Connecting to scatter.widget.selection trait\n"
     ]
    },
    {
     "data": {
      "application/vnd.jupyter.widget-view+json": {
       "model_id": "4e3e6b285e03444ab1a2919b3aff622c",
       "version_major": 2,
       "version_minor": 0
      },
      "text/plain": [
       "VBox(children=(HTML(value='<h3>cCRE Scatter Plot: Expression (Custom) vs Accessibility (Custom)</h3>'), HBox(c…"
      ]
     },
     "metadata": {},
     "output_type": "display_data"
    }
   ],
   "source": [
    "# Create datasets with a different join column\n",
    "x_alt = x.copy()\n",
    "y_alt = y.copy()\n",
    "metadata_alt = metadata.copy()\n",
    "\n",
    "# Add a custom join column\n",
    "custom_ids = [f\"custom_{i}\" for i in range(n_points)]\n",
    "x_alt[\"custom_id\"] = custom_ids\n",
    "y_alt[\"custom_id\"] = custom_ids\n",
    "metadata_alt[\"custom_id\"] = custom_ids\n",
    "\n",
    "# Create plot with custom join column\n",
    "result_custom = plot_ccres(\n",
    "    x=x_alt,\n",
    "    y=y_alt,\n",
    "    metadata=metadata_alt,\n",
    "    join_column=\"custom_id\",  # Custom join column\n",
    "    x_name=\"Expression (Custom)\",\n",
    "    y_name=\"Accessibility (Custom)\",\n",
    ")"
   ]
  }
 ],
 "metadata": {
  "kernelspec": {
   "display_name": "ccre-scatter",
   "language": "python",
   "name": "python3"
  },
  "language_info": {
   "codemirror_mode": {
    "name": "ipython",
    "version": 3
   },
   "file_extension": ".py",
   "mimetype": "text/x-python",
   "name": "python",
   "nbconvert_exporter": "python",
   "pygments_lexer": "ipython3",
   "version": "3.13.3"
  }
 },
 "nbformat": 4,
 "nbformat_minor": 4
}
