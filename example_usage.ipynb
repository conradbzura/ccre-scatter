{
 "cells": [
  {
   "cell_type": "markdown",
   "metadata": {},
   "source": [
    "# cCRE Scatter Plot Example Usage\n",
    "\n",
    "This notebook demonstrates how to use the `scatterplot` function to create interactive scatter plots with JScatter."
   ]
  },
  {
   "cell_type": "code",
   "execution_count": 3,
   "metadata": {},
   "outputs": [],
   "source": [
    "import numpy as np\n",
    "import polars as pl\n",
    "\n",
    "from scatterplot import kde, scatterplot"
   ]
  },
  {
   "cell_type": "markdown",
   "metadata": {},
   "source": [
    "## Create Sample Data\n",
    "\n",
    "Let's create some sample datasets to demonstrate the functionality."
   ]
  },
  {
   "cell_type": "code",
   "execution_count": 4,
   "metadata": {},
   "outputs": [
    {
     "name": "stdout",
     "output_type": "stream",
     "text": [
      "Created datasets with 10000 cCREs\n",
      "Dataset X shape: (10000, 3)\n",
      "Dataset Y shape: (10000, 3)\n",
      "Metadata shape: (10000, 6)\n",
      "Unique classes: ['CTCF-only', 'enhancer', 'insulator', 'promoter', 'silencer']\n",
      "Expression level range: [-54.71, 59.86]\n",
      "Accessibility score range: [-62.25, 84.33]\n"
     ]
    }
   ],
   "source": [
    "# Create sample cCRE identifiers\n",
    "n_points = 10000\n",
    "ccre_ids = [f\"cCRE_{i:04d}\" for i in range(n_points)]\n",
    "\n",
    "# Dataset A (for X-axis) - could be gene expression data\n",
    "# Mix positive and negative values to make the diagonal line more meaningful\n",
    "x = pl.DataFrame(\n",
    "    {\n",
    "        \"cCRE\": ccre_ids,\n",
    "        \"expression_level\": np.random.normal(\n",
    "            loc=5, scale=15, size=n_points\n",
    "        ),  # Normal distribution with negatives\n",
    "        \"tissue_type\": np.random.choice(\n",
    "            [\"brain\", \"liver\", \"heart\", \"lung\"], size=n_points\n",
    "        ),\n",
    "    }\n",
    ")\n",
    "\n",
    "# Dataset B (for Y-axis) - could be chromatin accessibility data\n",
    "# Also allow negative values to create more interesting scatter patterns\n",
    "y = pl.DataFrame(\n",
    "    {\n",
    "        \"cCRE\": ccre_ids,\n",
    "        \"accessibility_score\": np.random.normal(\n",
    "            loc=10, scale=20, size=n_points\n",
    "        ),  # Normal distribution with negatives\n",
    "        \"cell_line\": np.random.choice(\n",
    "            [\"K562\", \"HeLa\", \"HEK293\", \"MCF7\"], size=n_points\n",
    "        ),\n",
    "    }\n",
    ")\n",
    "\n",
    "# Metadata describing the cCREs\n",
    "chromosomes = [f\"chr{i}\" for i in range(1, 23)] + [\"chrX\", \"chrY\"]\n",
    "starts = np.random.randint(1000000, 200000000, size=n_points)\n",
    "ends = starts + np.random.randint(200, 2000, size=n_points)\n",
    "\n",
    "metadata = pl.DataFrame(\n",
    "    {\n",
    "        \"rDHS\": [f\"rDHS_{i:06d}\" for i in range(n_points)],\n",
    "        \"cCRE\": ccre_ids,\n",
    "        \"chr\": np.random.choice(chromosomes, size=n_points),\n",
    "        \"start\": starts,\n",
    "        \"end\": ends,\n",
    "        \"class\": np.random.choice(\n",
    "            [\"promoter\", \"enhancer\", \"insulator\", \"silencer\", \"CTCF-only\"],\n",
    "            size=n_points,\n",
    "        ),\n",
    "    }\n",
    ")\n",
    "\n",
    "print(f\"Created datasets with {n_points} cCREs\")\n",
    "print(f\"Dataset X shape: {x.shape}\")\n",
    "print(f\"Dataset Y shape: {y.shape}\")\n",
    "print(f\"Metadata shape: {metadata.shape}\")\n",
    "print(f\"Unique classes: {sorted(metadata['class'].unique().to_list())}\")\n",
    "print(\n",
    "    f\"Expression level range: [{x['expression_level'].min():.2f}, {x['expression_level'].max():.2f}]\"\n",
    ")\n",
    "print(\n",
    "    f\"Accessibility score range: [{y['accessibility_score'].min():.2f}, {y['accessibility_score'].max():.2f}]\"\n",
    ")"
   ]
  },
  {
   "cell_type": "markdown",
   "metadata": {},
   "source": [
    "## Create Interactive Scatter Plot\n",
    "\n",
    "Now let's create the interactive scatter plot. The function will automatically create an interpolated colormap based on the number of unique classes and include a diagonal reference line."
   ]
  },
  {
   "cell_type": "code",
   "execution_count": 5,
   "metadata": {},
   "outputs": [
    {
     "name": "stdout",
     "output_type": "stream",
     "text": [
      "Data ranges: x=[-54.71, 59.86], y=[-62.25, 84.33]\n",
      "Shared axis range: [-69.58, 91.65]\n"
     ]
    },
    {
     "data": {
      "application/vnd.jupyter.widget-view+json": {
       "model_id": "77d8e81bdc614f9195e5d9662c832dec",
       "version_major": 2,
       "version_minor": 0
      },
      "text/plain": [
       "VBox(children=(HTML(value='<h3>cCRE Expression vs Accessibility</h3>'), HBox(children=(Dropdown(description='C…"
      ]
     },
     "metadata": {},
     "output_type": "display_data"
    }
   ],
   "source": [
    "# Create the scatter plot with class-based coloring\n",
    "result = scatterplot(\n",
    "    x=x,\n",
    "    y=y,\n",
    "    metadata=metadata,\n",
    "    join_column=\"cCRE\",\n",
    "    category_column=\"class\",  # Specify the category column\n",
    "    x_label=\"Accessibility Score\",\n",
    "    y_label=\"Expression Level\",\n",
    "    title=\"cCRE Expression vs Accessibility\",\n",
    "    default_category=\"All\",  # Show all classes initially\n",
    ")"
   ]
  },
  {
   "cell_type": "markdown",
   "metadata": {},
   "source": [
    "## Accessing the Results\n",
    "\n",
    "The function returns a ScatterplotResult named tuple with several useful objects:"
   ]
  },
  {
   "cell_type": "code",
   "execution_count": 6,
   "metadata": {},
   "outputs": [
    {
     "name": "stdout",
     "output_type": "stream",
     "text": [
      "Merged data shape: (10000, 10)\n",
      "Available columns: ['cCRE', 'expression_level', 'tissue_type', 'accessibility_score', 'cell_line', 'rDHS', 'chr', 'start', 'end', 'class']\n",
      "Current selection: 0 points\n",
      "Filtering by class: enhancer\n",
      "Data ranges: x=[-44.70, 52.81], y=[-59.46, 76.43]\n",
      "Shared axis range: [-66.26, 83.22]\n",
      "Updated plot in-place for class: enhancer\n"
     ]
    }
   ],
   "source": [
    "# Access the individual components\n",
    "scatter_plot = result.scatter\n",
    "merged_data = result.merged_data\n",
    "container = result.container\n",
    "selection_func = result.selection\n",
    "class_dropdown = result.class_dropdown\n",
    "\n",
    "print(f\"Merged data shape: {merged_data.shape}\")\n",
    "print(f\"Available columns: {list(merged_data.columns)}\")\n",
    "print(f\"Current selection: {len(selection_func())} points\")\n",
    "\n",
    "# You can change the class filter programmatically\n",
    "class_dropdown.value = \"enhancer\""
   ]
  },
  {
   "cell_type": "markdown",
   "metadata": {},
   "source": [
    "## Using Density-Based Coloring\n",
    "\n",
    "You can also use density-based coloring instead of categorical coloring:\n",
    "\n",
    "> NOTE: Density computation is slow, use `radius()` for large datasets."
   ]
  },
  {
   "cell_type": "code",
   "execution_count": 7,
   "metadata": {},
   "outputs": [
    {
     "name": "stdout",
     "output_type": "stream",
     "text": [
      "Data ranges: x=[-54.71, 59.86], y=[-62.25, 84.33]\n",
      "Shared axis range: [-69.58, 91.65]\n"
     ]
    },
    {
     "data": {
      "application/vnd.jupyter.widget-view+json": {
       "model_id": "4d8078820cfd4969959bb46771462c81",
       "version_major": 2,
       "version_minor": 0
      },
      "text/plain": [
       "VBox(children=(HTML(value='<h3>cCRE Expression vs Accessibility (Density Colored)</h3>'), HBox(children=(Dropd…"
      ]
     },
     "metadata": {},
     "output_type": "display_data"
    }
   ],
   "source": [
    "# Create plot with KDE-based density coloring\n",
    "result_kde = scatterplot(\n",
    "    x=x,\n",
    "    y=y,\n",
    "    metadata=metadata,\n",
    "    join_column=\"cCRE\",\n",
    "    category_column=\"class\",\n",
    "    x_label=\"Accessibility Score\",\n",
    "    y_label=\"Expression Level\",\n",
    "    title=\"cCRE Expression vs Accessibility (Density Colored)\",\n",
    "    colormap=kde(bandwidth=10.0),  # Use KDE with custom bandwidth\n",
    ")"
   ]
  },
  {
   "cell_type": "markdown",
   "metadata": {},
   "source": [
    "## Using Different Category Columns\n",
    "\n",
    "You can use any categorical column in your metadata for coloring:"
   ]
  },
  {
   "cell_type": "code",
   "execution_count": 8,
   "metadata": {},
   "outputs": [
    {
     "name": "stdout",
     "output_type": "stream",
     "text": [
      "Data ranges: x=[-54.71, 59.86], y=[-62.25, 84.33]\n",
      "Shared axis range: [-69.58, 91.65]\n"
     ]
    },
    {
     "data": {
      "application/vnd.jupyter.widget-view+json": {
       "model_id": "0ebcbeaf1bd543cd9733522a8bd17ab8",
       "version_major": 2,
       "version_minor": 0
      },
      "text/plain": [
       "VBox(children=(HTML(value='<h3>cCRE Expression vs Accessibility (by Regulatory Type)</h3>'), HBox(children=(Dr…"
      ]
     },
     "metadata": {},
     "output_type": "display_data"
    }
   ],
   "source": [
    "# Add a custom category column to metadata\n",
    "metadata = metadata.with_columns(\n",
    "    [\n",
    "        pl.when(pl.col(\"class\").is_in([\"promoter\", \"enhancer\"]))\n",
    "        .then(pl.lit(\"active\"))\n",
    "        .when(pl.col(\"class\").is_in([\"silencer\", \"insulator\"]))\n",
    "        .then(pl.lit(\"regulatory\"))\n",
    "        .otherwise(pl.lit(\"other\"))\n",
    "        .alias(\"regulatory_type\")\n",
    "    ]\n",
    ")\n",
    "\n",
    "# Create plot using the new category column\n",
    "result_custom = scatterplot(\n",
    "    x=x,\n",
    "    y=y,\n",
    "    metadata=metadata,\n",
    "    join_column=\"cCRE\",\n",
    "    category_column=\"regulatory_type\",  # Use custom category column\n",
    "    x_label=\"Accessibility Score\",\n",
    "    y_label=\"Expression Level\",\n",
    "    title=\"cCRE Expression vs Accessibility (by Regulatory Type)\",\n",
    "    default_category=\"All\",\n",
    ")"
   ]
  }
 ],
 "metadata": {
  "kernelspec": {
   "display_name": "ccre-scatter",
   "language": "python",
   "name": "python3"
  },
  "language_info": {
   "codemirror_mode": {
    "name": "ipython",
    "version": 3
   },
   "file_extension": ".py",
   "mimetype": "text/x-python",
   "name": "python",
   "nbconvert_exporter": "python",
   "pygments_lexer": "ipython3",
   "version": "3.13.3"
  }
 },
 "nbformat": 4,
 "nbformat_minor": 4
}
