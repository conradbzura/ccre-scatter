{
 "cells": [
  {
   "cell_type": "markdown",
   "metadata": {},
   "source": [
    "# cCRE Scatter Plot Example Usage\n",
    "\n",
    "This notebook demonstrates how to use the `scatterplot` function to create interactive scatter plots with JScatter."
   ]
  },
  {
   "cell_type": "code",
   "execution_count": 1,
   "metadata": {},
   "outputs": [],
   "source": [
    "import numpy as np\n",
    "import pandas as pd\n",
    "\n",
    "from scatterplot import kde, knn, radius, scatterplot"
   ]
  },
  {
   "cell_type": "markdown",
   "metadata": {},
   "source": [
    "## Create Sample Data\n",
    "\n",
    "Let's create some sample datasets to demonstrate the functionality."
   ]
  },
  {
   "cell_type": "code",
   "execution_count": null,
   "metadata": {},
   "outputs": [
    {
     "name": "stdout",
     "output_type": "stream",
     "text": [
      "Created datasets with 1000 cCREs\n",
      "Dataset A shape: (1000, 3)\n",
      "Dataset B shape: (1000, 3)\n",
      "Metadata shape: (1000, 6)\n"
     ]
    }
   ],
   "source": [
    "# Create sample cCRE identifiers\n",
    "n_points = 1000\n",
    "ccre_ids = [f\"cCRE_{i:04d}\" for i in range(n_points)]\n",
    "\n",
    "# Dataset A (for Y-axis) - could be gene expression data\n",
    "x = pd.DataFrame(\n",
    "    {\n",
    "        \"cCRE\": ccre_ids,\n",
    "        \"expression_level\": np.random.lognormal(mean=2, sigma=1, size=n_points),\n",
    "        \"tissue_type\": np.random.choice(\n",
    "            [\"brain\", \"liver\", \"heart\", \"lung\"], size=n_points\n",
    "        ),\n",
    "    }\n",
    ")\n",
    "\n",
    "# Dataset B (for X-axis) - could be chromatin accessibility data\n",
    "y = pd.DataFrame(\n",
    "    {\n",
    "        \"cCRE\": ccre_ids,\n",
    "        \"accessibility_score\": np.random.beta(a=2, b=5, size=n_points) * 100,\n",
    "        \"cell_line\": np.random.choice(\n",
    "            [\"K562\", \"HeLa\", \"HEK293\", \"MCF7\"], size=n_points\n",
    "        ),\n",
    "    }\n",
    ")\n",
    "\n",
    "# Metadata describing the cCREs\n",
    "chromosomes = [f\"chr{i}\" for i in range(1, 23)] + [\"chrX\", \"chrY\"]\n",
    "metadata = pd.DataFrame(\n",
    "    {\n",
    "        \"rDHS\": [f\"rDHS_{i:06d}\" for i in range(n_points)],\n",
    "        \"cCRE\": ccre_ids,\n",
    "        \"chr\": np.random.choice(chromosomes, size=n_points),\n",
    "        \"start\": np.random.randint(1000000, 200000000, size=n_points),\n",
    "        \"end\": lambda df: df[\"start\"] + np.random.randint(200, 2000, size=n_points),\n",
    "        \"class\": np.random.choice(\n",
    "            [\"promoter\", \"enhancer\", \"insulator\", \"silencer\"], size=n_points\n",
    "        ),\n",
    "    }\n",
    ")\n",
    "metadata[\"end\"] = metadata[\"start\"] + np.random.randint(200, 2000, size=n_points)\n",
    "\n",
    "print(f\"Created datasets with {n_points} cCREs\")\n",
    "print(f\"Dataset A shape: {x.shape}\")\n",
    "print(f\"Dataset B shape: {y.shape}\")\n",
    "print(f\"Metadata shape: {metadata.shape}\")"
   ]
  },
  {
   "cell_type": "markdown",
   "metadata": {},
   "source": [
    "## Create Interactive Scatter Plot\n",
    "\n",
    "Now let's create the interactive scatter plot with the metadata table."
   ]
  },
  {
   "cell_type": "code",
   "execution_count": 3,
   "metadata": {},
   "outputs": [
    {
     "name": "stdout",
     "output_type": "stream",
     "text": [
      "Data ranges: x=[0.86, 94.35], y=[0.31, 132.88]\n",
      "Shared axis range: [-6.32, 139.51]\n",
      "Connecting to scatter.widget.selection trait\n"
     ]
    },
    {
     "data": {
      "application/vnd.jupyter.widget-view+json": {
       "model_id": "26675926dfd94ee5bd38ad6f66cd1a39",
       "version_major": 2,
       "version_minor": 0
      },
      "text/plain": [
       "VBox(children=(HTML(value='<h3>Expression Level vs. Accessibility Score</h3>'), VBox(children=(HBox(children=(…"
      ]
     },
     "metadata": {},
     "output_type": "display_data"
    }
   ],
   "source": [
    "# Create the scatter plot\n",
    "result = scatterplot(\n",
    "    x=x,\n",
    "    y=y,\n",
    "    metadata=metadata,\n",
    "    join_column=\"cCRE\",  # This is the default\n",
    "    x_label=\"Accessibility Score\",\n",
    "    y_label=\"Expression Level\",\n",
    "    colormap=kde(),\n",
    ")"
   ]
  },
  {
   "cell_type": "markdown",
   "metadata": {},
   "source": [
    "## Accessing the Results\n",
    "\n",
    "The function returns a dictionary with several useful objects:"
   ]
  },
  {
   "cell_type": "code",
   "execution_count": 4,
   "metadata": {},
   "outputs": [
    {
     "ename": "KeyError",
     "evalue": "'metadata_table'",
     "output_type": "error",
     "traceback": [
      "\u001b[31m---------------------------------------------------------------------------\u001b[39m",
      "\u001b[31mKeyError\u001b[39m                                  Traceback (most recent call last)",
      "\u001b[36mCell\u001b[39m\u001b[36m \u001b[39m\u001b[32mIn[4]\u001b[39m\u001b[32m, line 3\u001b[39m\n\u001b[32m      1\u001b[39m \u001b[38;5;66;03m# Access the individual components\u001b[39;00m\n\u001b[32m      2\u001b[39m scatter_plot = result[\u001b[33m\"\u001b[39m\u001b[33mscatter\u001b[39m\u001b[33m\"\u001b[39m]\n\u001b[32m----> \u001b[39m\u001b[32m3\u001b[39m metadata_table = \u001b[43mresult\u001b[49m\u001b[43m[\u001b[49m\u001b[33;43m\"\u001b[39;49m\u001b[33;43mmetadata_table\u001b[39;49m\u001b[33;43m\"\u001b[39;49m\u001b[43m]\u001b[49m\n\u001b[32m      4\u001b[39m merged_data = result[\u001b[33m\"\u001b[39m\u001b[33mmerged_data\u001b[39m\u001b[33m\"\u001b[39m]\n\u001b[32m      5\u001b[39m container = result[\u001b[33m\"\u001b[39m\u001b[33mcontainer\u001b[39m\u001b[33m\"\u001b[39m]\n",
      "\u001b[31mKeyError\u001b[39m: 'metadata_table'"
     ]
    }
   ],
   "source": [
    "# Access the individual components\n",
    "scatter_plot = result[\"scatter\"]\n",
    "metadata_table = result[\"metadata_table\"]\n",
    "merged_data = result[\"merged_data\"]\n",
    "container = result[\"container\"]\n",
    "\n",
    "print(f\"Merged data shape: {merged_data.shape}\")\n",
    "print(f\"Available columns: {list(merged_data.columns)}\")"
   ]
  },
  {
   "cell_type": "markdown",
   "metadata": {},
   "source": [
    "## Manual Selection Update\n",
    "\n",
    "You can also manually update the metadata table to show specific points:"
   ]
  },
  {
   "cell_type": "code",
   "execution_count": null,
   "metadata": {},
   "outputs": [],
   "source": [
    "# Example: Show metadata for the first 10 points\n",
    "update_callback = result[\"update_metadata_callback\"]\n",
    "update_callback(selected_indices=list(range(100)))"
   ]
  },
  {
   "cell_type": "markdown",
   "metadata": {},
   "source": [
    "## Using Different Join Columns\n",
    "\n",
    "You can also use a different column for joining the datasets:"
   ]
  },
  {
   "cell_type": "code",
   "execution_count": null,
   "metadata": {},
   "outputs": [
    {
     "name": "stdout",
     "output_type": "stream",
     "text": [
      "Data ranges: x=[0.47, 84.86], y=[0.19, 215.40]\n",
      "Shared axis range: [-10.57, 226.16]\n",
      "Connecting to scatter.widget.selection trait\n"
     ]
    },
    {
     "data": {
      "application/vnd.jupyter.widget-view+json": {
       "model_id": "d0fa152d42424ecfab8fcf4df70b3f9f",
       "version_major": 2,
       "version_minor": 0
      },
      "text/plain": [
       "VBox(children=(HTML(value='<h3>expression_level vs. accessibility_score</h3>'), HBox(children=(VBox(children=(…"
      ]
     },
     "metadata": {},
     "output_type": "display_data"
    }
   ],
   "source": [
    "# Create datasets with a different join column\n",
    "x_alt = x.copy()\n",
    "y_alt = y.copy()\n",
    "metadata_alt = metadata.copy()\n",
    "\n",
    "# Add a custom join column\n",
    "custom_ids = [f\"custom_{i}\" for i in range(n_points)]\n",
    "x_alt[\"custom_id\"] = custom_ids\n",
    "y_alt[\"custom_id\"] = custom_ids\n",
    "metadata_alt[\"custom_id\"] = custom_ids\n",
    "\n",
    "# Create plot with custom join column\n",
    "result_custom = scatterplot(\n",
    "    x=x_alt,\n",
    "    y=y_alt,\n",
    "    metadata=metadata_alt,\n",
    "    join_column=\"custom_id\",  # Custom join column\n",
    ")"
   ]
  }
 ],
 "metadata": {
  "kernelspec": {
   "display_name": "ccre-scatter",
   "language": "python",
   "name": "python3"
  },
  "language_info": {
   "codemirror_mode": {
    "name": "ipython",
    "version": 3
   },
   "file_extension": ".py",
   "mimetype": "text/x-python",
   "name": "python",
   "nbconvert_exporter": "python",
   "pygments_lexer": "ipython3",
   "version": "3.13.3"
  }
 },
 "nbformat": 4,
 "nbformat_minor": 4
}
