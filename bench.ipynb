{
 "cells": [
  {
   "cell_type": "code",
   "execution_count": 1,
   "id": "9343cea4",
   "metadata": {},
   "outputs": [
    {
     "name": "stderr",
     "output_type": "stream",
     "text": [
      "/Users/conrad/Projects/conradbzura/ccre-scatter/scatterplot.py:380: PerformanceWarning: Determining the column names of a LazyFrame requires resolving its schema, which is a potentially expensive operation. Use `LazyFrame.collect_schema().names()` to get the column names without this warning.\n",
      "  available_columns = data_scan.columns\n"
     ]
    },
    {
     "name": "stdout",
     "output_type": "stream",
     "text": [
      "Data file has 1722 columns available\n",
      "Added selection callback\n",
      "Data ranges: x=[-10.00, 6.74], y=[-10.98, 7.30]\n",
      "Shared axis range: [-11.89, 8.21]\n"
     ]
    },
    {
     "data": {
      "application/vnd.jupyter.widget-view+json": {
       "model_id": "f1ca4dc9a62045b8a6ad2c6ff181bf86",
       "version_major": 2,
       "version_minor": 0
      },
      "text/plain": [
       "VBox(children=(HBox(children=(Dropdown(description='Class:', options=('All', 'CA', 'CA-CTCF', 'CA-H3K4me3', 'C…"
      ]
     },
     "metadata": {},
     "output_type": "display_data"
    }
   ],
   "source": [
    "import polars\n",
    "\n",
    "from scatterplot import scatterplot\n",
    "\n",
    "\n",
    "datafile = \"/Users/conrad/Projects/vedatonuryilmaz/simplex-scatter/comb_healthy_scatac_tcga_encode.parquet\"\n",
    "\n",
    "x = polars.read_parquet(\n",
    "    datafile,\n",
    "    columns=[\n",
    "        \"cCRE\",  # Must include the join column\n",
    "        \"LGGx-TCGA-DU-6395-02A-11-A644-42-X037-S06\",\n",
    "    ],\n",
    ")\n",
    "\n",
    "y = polars.read_parquet(\n",
    "    datafile,\n",
    "    columns=[\n",
    "        \"cCRE\",  # Must include the join column\n",
    "        \"LGGx-TCGA-F6-A8O3-01A-31-A617-42-X013-S07\",\n",
    "    ],\n",
    ")\n",
    "\n",
    "metadata = polars.read_parquet(\n",
    "    datafile,\n",
    "    columns=[\n",
    "        \"cCRE\",  # Must include the join column\n",
    "        \"rDHS\",\n",
    "        \"chr\",\n",
    "        \"start\",\n",
    "        \"end\",\n",
    "        \"class\",\n",
    "    ],\n",
    ")\n",
    "\n",
    "result = scatterplot(\n",
    "    x=x,\n",
    "    y=y,\n",
    "    metadata=metadata,\n",
    "    join_column=\"cCRE\",  # Default\n",
    "    category_column=\"class\",  # Default\n",
    "    sample_id_column=\"biosample\",\n",
    "    sample_metadata_file=\"sample_metadata.pq\",\n",
    "    data_file=datafile\n",
    ")"
   ]
  },
  {
   "cell_type": "code",
   "execution_count": 2,
   "id": "f30d5ab3",
   "metadata": {},
   "outputs": [],
   "source": [
    "result.datagrid.clear()"
   ]
  },
  {
   "cell_type": "code",
   "execution_count": 3,
   "id": "ce3a479a",
   "metadata": {},
   "outputs": [
    {
     "data": {
      "text/plain": [
       "[]"
      ]
     },
     "execution_count": 3,
     "metadata": {},
     "output_type": "execute_result"
    }
   ],
   "source": [
    "result.datagrid"
   ]
  },
  {
   "cell_type": "code",
   "execution_count": 9,
   "id": "b707cc89",
   "metadata": {},
   "outputs": [
    {
     "data": {
      "text/html": [
       "<div><style>\n",
       ".dataframe > thead > tr,\n",
       ".dataframe > tbody > tr {\n",
       "  text-align: right;\n",
       "  white-space: pre-wrap;\n",
       "}\n",
       "</style>\n",
       "<small>shape: (1, 8)</small><table border=\"1\" class=\"dataframe\"><thead><tr><th>cCRE</th><th>BRCA-TCGA-A7-A0D9-01A-11-A615-42-X016-S12</th><th>BRCA-TCGA-AO-A12F-01A-22-A616-42-X008-S04</th><th>rDHS</th><th>chr</th><th>start</th><th>end</th><th>class</th></tr><tr><td>str</td><td>f64</td><td>f64</td><td>str</td><td>str</td><td>i64</td><td>i64</td><td>str</td></tr></thead><tbody><tr><td>&quot;EH38E4087354&quot;</td><td>-0.279241</td><td>-2.924656</td><td>&quot;EH38D2653514&quot;</td><td>&quot;chr13&quot;</td><td>49890786</td><td>49891008</td><td>&quot;CA&quot;</td></tr></tbody></table></div>"
      ],
      "text/plain": [
       "shape: (1, 8)\n",
       "┌──────────────┬───────────────┬──────────────┬──────────────┬───────┬──────────┬──────────┬───────┐\n",
       "│ cCRE         ┆ BRCA-TCGA-A7- ┆ BRCA-TCGA-AO ┆ rDHS         ┆ chr   ┆ start    ┆ end      ┆ class │\n",
       "│ ---          ┆ A0D9-01A-11-A ┆ -A12F-01A-22 ┆ ---          ┆ ---   ┆ ---      ┆ ---      ┆ ---   │\n",
       "│ str          ┆ 615-…         ┆ -A616-…      ┆ str          ┆ str   ┆ i64      ┆ i64      ┆ str   │\n",
       "│              ┆ ---           ┆ ---          ┆              ┆       ┆          ┆          ┆       │\n",
       "│              ┆ f64           ┆ f64          ┆              ┆       ┆          ┆          ┆       │\n",
       "╞══════════════╪═══════════════╪══════════════╪══════════════╪═══════╪══════════╪══════════╪═══════╡\n",
       "│ EH38E4087354 ┆ -0.279241     ┆ -2.924656    ┆ EH38D2653514 ┆ chr13 ┆ 49890786 ┆ 49891008 ┆ CA    │\n",
       "└──────────────┴───────────────┴──────────────┴──────────────┴───────┴──────────┴──────────┴───────┘"
      ]
     },
     "execution_count": 9,
     "metadata": {},
     "output_type": "execute_result"
    }
   ],
   "source": [
    "result.selection()"
   ]
  }
 ],
 "metadata": {
  "kernelspec": {
   "display_name": ".venv",
   "language": "python",
   "name": "python3"
  },
  "language_info": {
   "codemirror_mode": {
    "name": "ipython",
    "version": 3
   },
   "file_extension": ".py",
   "mimetype": "text/x-python",
   "name": "python",
   "nbconvert_exporter": "python",
   "pygments_lexer": "ipython3",
   "version": "3.13.3"
  }
 },
 "nbformat": 4,
 "nbformat_minor": 5
}
