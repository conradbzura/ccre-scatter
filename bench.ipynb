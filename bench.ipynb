{
 "cells": [
  {
   "cell_type": "code",
   "execution_count": 1,
   "id": "9343cea4",
   "metadata": {},
   "outputs": [
    {
     "name": "stdout",
     "output_type": "stream",
     "text": [
      "Data file has 1722 columns available\n",
      "Added selection callback\n",
      "Filtering by category: All\n",
      "Data ranges: x=[-10.00, 6.74], y=[-10.98, 7.30]\n",
      "Shared axis range: [-11.89, 8.21]\n",
      "Updated plot in-place for category: All\n"
     ]
    },
    {
     "data": {
      "application/vnd.jupyter.widget-view+json": {
       "model_id": "0ebf208baa194b0a82e9941bb021f5a3",
       "version_major": 2,
       "version_minor": 0
      },
      "text/plain": [
       "VBox(children=(HBox(children=(Dropdown(description='Class:', options=('All', 'CA', 'CA-CTCF', 'CA-H3K4me3', 'C…"
      ]
     },
     "metadata": {},
     "output_type": "display_data"
    }
   ],
   "source": [
    "import polars\n",
    "\n",
    "from scatterplot import scatterplot\n",
    "\n",
    "\n",
    "datafile = \"/Users/conrad/Projects/vedatonuryilmaz/simplex-scatter/comb_healthy_scatac_tcga_encode.parquet\"\n",
    "\n",
    "x = polars.read_parquet(\n",
    "    datafile,\n",
    "    columns=[\n",
    "        \"cCRE\",  # Must include the join column\n",
    "        \"LGGx-TCGA-DU-6395-02A-11-A644-42-X037-S06\",\n",
    "    ],\n",
    ")\n",
    "\n",
    "y = polars.read_parquet(\n",
    "    datafile,\n",
    "    columns=[\n",
    "        \"cCRE\",  # Must include the join column\n",
    "        \"LGGx-TCGA-F6-A8O3-01A-31-A617-42-X013-S07\",\n",
    "    ],\n",
    ")\n",
    "\n",
    "metadata = polars.read_parquet(\n",
    "    datafile,\n",
    "    columns=[\n",
    "        \"cCRE\",  # Must include the join column\n",
    "        \"rDHS\",\n",
    "        \"chr\",\n",
    "        \"start\",\n",
    "        \"end\",\n",
    "        \"class\",\n",
    "    ],\n",
    ")\n",
    "\n",
    "result = scatterplot(\n",
    "    x=x,\n",
    "    y=y,\n",
    "    metadata=metadata,\n",
    "    join_column=\"cCRE\",  # Default\n",
    "    category_column=\"class\",  # Default\n",
    "    sample_id_column=\"biosample\",\n",
    "    sample_metadata_file=\"sample_metadata.pq\",\n",
    "    data_file=datafile\n",
    ")"
   ]
  },
  {
   "cell_type": "code",
   "execution_count": 2,
   "id": "b707cc89",
   "metadata": {},
   "outputs": [
    {
     "data": {
      "text/html": [
       "<div><style>\n",
       ".dataframe > thead > tr,\n",
       ".dataframe > tbody > tr {\n",
       "  text-align: right;\n",
       "  white-space: pre-wrap;\n",
       "}\n",
       "</style>\n",
       "<small>shape: (0, 0)</small><table border=\"1\" class=\"dataframe\"><thead><tr></tr><tr></tr></thead><tbody></tbody></table></div>"
      ],
      "text/plain": [
       "shape: (0, 0)\n",
       "┌┐\n",
       "╞╡\n",
       "└┘"
      ]
     },
     "execution_count": 2,
     "metadata": {},
     "output_type": "execute_result"
    }
   ],
   "source": [
    "result.selection()"
   ]
  }
 ],
 "metadata": {
  "kernelspec": {
   "display_name": ".venv",
   "language": "python",
   "name": "python3"
  },
  "language_info": {
   "codemirror_mode": {
    "name": "ipython",
    "version": 3
   },
   "file_extension": ".py",
   "mimetype": "text/x-python",
   "name": "python",
   "nbconvert_exporter": "python",
   "pygments_lexer": "ipython3",
   "version": "3.13.3"
  }
 },
 "nbformat": 4,
 "nbformat_minor": 5
}
