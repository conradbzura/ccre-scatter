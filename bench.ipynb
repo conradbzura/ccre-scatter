{
 "cells": [
  {
   "cell_type": "code",
   "execution_count": 11,
   "id": "9343cea4",
   "metadata": {},
   "outputs": [
    {
     "name": "stdout",
     "output_type": "stream",
     "text": [
      "Data ranges: x=[-10.00, 6.74], y=[-10.98, 7.30]\n",
      "Shared axis range: [-11.89, 8.21]\n"
     ]
    },
    {
     "data": {
      "application/vnd.jupyter.widget-view+json": {
       "model_id": "955c859b51c749729e908898f7c75d00",
       "version_major": 2,
       "version_minor": 0
      },
      "text/plain": [
       "VBox(children=(HBox(children=(Dropdown(description='Class:', options=('All', 'CA', 'CA-CTCF', 'CA-H3K4me3', 'C…"
      ]
     },
     "metadata": {},
     "output_type": "display_data"
    }
   ],
   "source": [
    "import polars\n",
    "\n",
    "from scatterplot import scatterplot\n",
    "\n",
    "datafile = \"/Users/conrad/Projects/vedatonuryilmaz/simplex-scatter/comb_healthy_scatac_tcga_encode.parquet\"\n",
    "\n",
    "x = polars.read_parquet(\n",
    "    datafile,\n",
    "    columns=[\n",
    "        \"cCRE\",  # Must include the join column\n",
    "        \"LGGx-TCGA-DU-6395-02A-11-A644-42-X037-S06\",\n",
    "    ],\n",
    ")\n",
    "\n",
    "y = polars.read_parquet(\n",
    "    datafile,\n",
    "    columns=[\n",
    "        \"cCRE\",  # Must include the join column\n",
    "        \"LGGx-TCGA-F6-A8O3-01A-31-A617-42-X013-S07\",\n",
    "    ],\n",
    ")\n",
    "\n",
    "metadata = polars.read_parquet(\n",
    "    datafile,\n",
    "    columns=[\n",
    "        \"cCRE\",  # Must include the join column\n",
    "        \"rDHS\",\n",
    "        \"chr\",\n",
    "        \"start\",\n",
    "        \"end\",\n",
    "        \"class\",\n",
    "    ],\n",
    ")\n",
    "\n",
    "result = scatterplot(\n",
    "    x=x,\n",
    "    y=y,\n",
    "    metadata=metadata,\n",
    "    join_column=\"cCRE\",  # Default\n",
    "    category_column=\"class\",  # Default\n",
    ")"
   ]
  },
  {
   "cell_type": "code",
   "execution_count": 17,
   "id": "f30d5ab3",
   "metadata": {},
   "outputs": [
    {
     "data": {
      "text/html": [
       "<div><style>\n",
       ".dataframe > thead > tr,\n",
       ".dataframe > tbody > tr {\n",
       "  text-align: right;\n",
       "  white-space: pre-wrap;\n",
       "}\n",
       "</style>\n",
       "<small>shape: (25_272, 8)</small><table border=\"1\" class=\"dataframe\"><thead><tr><th>cCRE</th><th>LGGx-TCGA-DU-6395-02A-11-A644-42-X037-S06</th><th>LGGx-TCGA-F6-A8O3-01A-31-A617-42-X013-S07</th><th>rDHS</th><th>chr</th><th>start</th><th>end</th><th>class</th></tr><tr><td>str</td><td>f64</td><td>f64</td><td>str</td><td>str</td><td>i64</td><td>i64</td><td>str</td></tr></thead><tbody><tr><td>&quot;EH38E3448064&quot;</td><td>1.635766</td><td>0.66523</td><td>&quot;EH38D5352328&quot;</td><td>&quot;chr20&quot;</td><td>62981455</td><td>62981782</td><td>&quot;dELS&quot;</td></tr><tr><td>&quot;EH38E2421245&quot;</td><td>1.841296</td><td>0.605331</td><td>&quot;EH38D3776777&quot;</td><td>&quot;chr5&quot;</td><td>150640324</td><td>150640494</td><td>&quot;pELS&quot;</td></tr><tr><td>&quot;EH38E3584763&quot;</td><td>1.882532</td><td>0.610442</td><td>&quot;EH38D5563718&quot;</td><td>&quot;chr4&quot;</td><td>54042045</td><td>54042358</td><td>&quot;dELS&quot;</td></tr><tr><td>&quot;EH38E3763228&quot;</td><td>1.896796</td><td>0.608895</td><td>&quot;EH38D5838703&quot;</td><td>&quot;chr7&quot;</td><td>26292168</td><td>26292481</td><td>&quot;pELS&quot;</td></tr><tr><td>&quot;EH38E3271556&quot;</td><td>1.884243</td><td>0.611462</td><td>&quot;EH38D5082444&quot;</td><td>&quot;chr18&quot;</td><td>58670727</td><td>58670893</td><td>&quot;pELS&quot;</td></tr><tr><td>&hellip;</td><td>&hellip;</td><td>&hellip;</td><td>&hellip;</td><td>&hellip;</td><td>&hellip;</td><td>&hellip;</td><td>&hellip;</td></tr><tr><td>&quot;EH38E4334456&quot;</td><td>1.37997</td><td>-0.466324</td><td>&quot;EH38D3576718&quot;</td><td>&quot;chr4&quot;</td><td>53845444</td><td>53845782</td><td>&quot;CA&quot;</td></tr><tr><td>&quot;EH38E2541799&quot;</td><td>1.377705</td><td>-0.463902</td><td>&quot;EH38D3956798&quot;</td><td>&quot;chr7&quot;</td><td>26083184</td><td>26083510</td><td>&quot;dELS&quot;</td></tr><tr><td>&quot;EH38E2779220&quot;</td><td>1.389022</td><td>-0.455082</td><td>&quot;EH38D4331102&quot;</td><td>&quot;chr1&quot;</td><td>2610327</td><td>2610670</td><td>&quot;dELS&quot;</td></tr><tr><td>&quot;EH38E1377363&quot;</td><td>1.393546</td><td>-0.456827</td><td>&quot;EH38D2212221&quot;</td><td>&quot;chr1&quot;</td><td>112935873</td><td>112936116</td><td>&quot;dELS&quot;</td></tr><tr><td>&quot;EH38E2910089&quot;</td><td>1.377097</td><td>-0.457991</td><td>&quot;EH38D4528895&quot;</td><td>&quot;chr10&quot;</td><td>77037056</td><td>77037297</td><td>&quot;dELS&quot;</td></tr></tbody></table></div>"
      ],
      "text/plain": [
       "shape: (25_272, 8)\n",
       "┌──────────────┬──────────────┬──────────────┬─────────────┬───────┬───────────┬───────────┬───────┐\n",
       "│ cCRE         ┆ LGGx-TCGA-DU ┆ LGGx-TCGA-F6 ┆ rDHS        ┆ chr   ┆ start     ┆ end       ┆ class │\n",
       "│ ---          ┆ -6395-02A-11 ┆ -A8O3-01A-31 ┆ ---         ┆ ---   ┆ ---       ┆ ---       ┆ ---   │\n",
       "│ str          ┆ -A644-…      ┆ -A617-…      ┆ str         ┆ str   ┆ i64       ┆ i64       ┆ str   │\n",
       "│              ┆ ---          ┆ ---          ┆             ┆       ┆           ┆           ┆       │\n",
       "│              ┆ f64          ┆ f64          ┆             ┆       ┆           ┆           ┆       │\n",
       "╞══════════════╪══════════════╪══════════════╪═════════════╪═══════╪═══════════╪═══════════╪═══════╡\n",
       "│ EH38E3448064 ┆ 1.635766     ┆ 0.66523      ┆ EH38D535232 ┆ chr20 ┆ 62981455  ┆ 62981782  ┆ dELS  │\n",
       "│              ┆              ┆              ┆ 8           ┆       ┆           ┆           ┆       │\n",
       "│ EH38E2421245 ┆ 1.841296     ┆ 0.605331     ┆ EH38D377677 ┆ chr5  ┆ 150640324 ┆ 150640494 ┆ pELS  │\n",
       "│              ┆              ┆              ┆ 7           ┆       ┆           ┆           ┆       │\n",
       "│ EH38E3584763 ┆ 1.882532     ┆ 0.610442     ┆ EH38D556371 ┆ chr4  ┆ 54042045  ┆ 54042358  ┆ dELS  │\n",
       "│              ┆              ┆              ┆ 8           ┆       ┆           ┆           ┆       │\n",
       "│ EH38E3763228 ┆ 1.896796     ┆ 0.608895     ┆ EH38D583870 ┆ chr7  ┆ 26292168  ┆ 26292481  ┆ pELS  │\n",
       "│              ┆              ┆              ┆ 3           ┆       ┆           ┆           ┆       │\n",
       "│ EH38E3271556 ┆ 1.884243     ┆ 0.611462     ┆ EH38D508244 ┆ chr18 ┆ 58670727  ┆ 58670893  ┆ pELS  │\n",
       "│              ┆              ┆              ┆ 4           ┆       ┆           ┆           ┆       │\n",
       "│ …            ┆ …            ┆ …            ┆ …           ┆ …     ┆ …         ┆ …         ┆ …     │\n",
       "│ EH38E4334456 ┆ 1.37997      ┆ -0.466324    ┆ EH38D357671 ┆ chr4  ┆ 53845444  ┆ 53845782  ┆ CA    │\n",
       "│              ┆              ┆              ┆ 8           ┆       ┆           ┆           ┆       │\n",
       "│ EH38E2541799 ┆ 1.377705     ┆ -0.463902    ┆ EH38D395679 ┆ chr7  ┆ 26083184  ┆ 26083510  ┆ dELS  │\n",
       "│              ┆              ┆              ┆ 8           ┆       ┆           ┆           ┆       │\n",
       "│ EH38E2779220 ┆ 1.389022     ┆ -0.455082    ┆ EH38D433110 ┆ chr1  ┆ 2610327   ┆ 2610670   ┆ dELS  │\n",
       "│              ┆              ┆              ┆ 2           ┆       ┆           ┆           ┆       │\n",
       "│ EH38E1377363 ┆ 1.393546     ┆ -0.456827    ┆ EH38D221222 ┆ chr1  ┆ 112935873 ┆ 112936116 ┆ dELS  │\n",
       "│              ┆              ┆              ┆ 1           ┆       ┆           ┆           ┆       │\n",
       "│ EH38E2910089 ┆ 1.377097     ┆ -0.457991    ┆ EH38D452889 ┆ chr10 ┆ 77037056  ┆ 77037297  ┆ dELS  │\n",
       "│              ┆              ┆              ┆ 5           ┆       ┆           ┆           ┆       │\n",
       "└──────────────┴──────────────┴──────────────┴─────────────┴───────┴───────────┴───────────┴───────┘"
      ]
     },
     "execution_count": 17,
     "metadata": {},
     "output_type": "execute_result"
    }
   ],
   "source": [
    "result.selection()  # Get the current selection of cCREs as a polars dataframe"
   ]
  }
 ],
 "metadata": {
  "kernelspec": {
   "display_name": "ccre-scatter",
   "language": "python",
   "name": "python3"
  },
  "language_info": {
   "codemirror_mode": {
    "name": "ipython",
    "version": 3
   },
   "file_extension": ".py",
   "mimetype": "text/x-python",
   "name": "python",
   "nbconvert_exporter": "python",
   "pygments_lexer": "ipython3",
   "version": "3.13.3"
  }
 },
 "nbformat": 4,
 "nbformat_minor": 5
}
