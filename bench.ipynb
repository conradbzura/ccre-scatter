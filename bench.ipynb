{
 "cells": [
  {
   "cell_type": "code",
   "execution_count": 1,
   "id": "9343cea4",
   "metadata": {},
   "outputs": [
    {
     "name": "stdout",
     "output_type": "stream",
     "text": [
      "Data ranges: x=[-10.00, 6.74], y=[-10.98, 7.30]\n",
      "Shared axis range: [-11.89, 8.21]\n"
     ]
    },
    {
     "data": {
      "application/vnd.jupyter.widget-view+json": {
       "model_id": "423a4a5756ad40108c97152d867ae7e6",
       "version_major": 2,
       "version_minor": 0
      },
      "text/plain": [
       "VBox(children=(HBox(children=(Dropdown(description='Class:', options=('All', 'CA', 'CA-CTCF', 'CA-H3K4me3', 'C…"
      ]
     },
     "metadata": {},
     "output_type": "display_data"
    }
   ],
   "source": [
    "import polars\n",
    "\n",
    "from scatterplot import scatterplot\n",
    "\n",
    "datafile = \"/Users/conrad/Projects/vedatonuryilmaz/simplex-scatter/comb_healthy_scatac_tcga_encode.parquet\"\n",
    "\n",
    "x = polars.read_parquet(\n",
    "    datafile,\n",
    "    columns=[\n",
    "        \"cCRE\",  # Must include the join column\n",
    "        \"LGGx-TCGA-DU-6395-02A-11-A644-42-X037-S06\",\n",
    "    ],\n",
    ")\n",
    "\n",
    "y = polars.read_parquet(\n",
    "    datafile,\n",
    "    columns=[\n",
    "        \"cCRE\",  # Must include the join column\n",
    "        \"LGGx-TCGA-F6-A8O3-01A-31-A617-42-X013-S07\",\n",
    "    ],\n",
    ")\n",
    "\n",
    "metadata = polars.read_parquet(\n",
    "    datafile,\n",
    "    columns=[\n",
    "        \"cCRE\",  # Must include the join column\n",
    "        \"rDHS\",\n",
    "        \"chr\",\n",
    "        \"start\",\n",
    "        \"end\",\n",
    "        \"class\",\n",
    "    ],\n",
    ")\n",
    "\n",
    "result = scatterplot(\n",
    "    x=x,\n",
    "    y=y,\n",
    "    metadata=metadata,\n",
    "    join_column=\"cCRE\",  # Default\n",
    "    category_column=\"class\",  # Default\n",
    ")"
   ]
  },
  {
   "cell_type": "code",
   "execution_count": 12,
   "id": "f30d5ab3",
   "metadata": {},
   "outputs": [
    {
     "data": {
      "text/html": [
       "<div><style>\n",
       ".dataframe > thead > tr,\n",
       ".dataframe > tbody > tr {\n",
       "  text-align: right;\n",
       "  white-space: pre-wrap;\n",
       "}\n",
       "</style>\n",
       "<small>shape: (1, 8)</small><table border=\"1\" class=\"dataframe\"><thead><tr><th>cCRE</th><th>LGGx-TCGA-DU-6395-02A-11-A644-42-X037-S06</th><th>LGGx-TCGA-F6-A8O3-01A-31-A617-42-X013-S07</th><th>rDHS</th><th>chr</th><th>start</th><th>end</th><th>class</th></tr><tr><td>str</td><td>f64</td><td>f64</td><td>str</td><td>str</td><td>i64</td><td>i64</td><td>str</td></tr></thead><tbody><tr><td>&quot;EH38E4223029&quot;</td><td>3.030514</td><td>-0.943186</td><td>&quot;EH38D5212359&quot;</td><td>&quot;chr2&quot;</td><td>91517918</td><td>91518262</td><td>&quot;CA&quot;</td></tr></tbody></table></div>"
      ],
      "text/plain": [
       "shape: (1, 8)\n",
       "┌──────────────┬───────────────┬───────────────┬──────────────┬──────┬──────────┬──────────┬───────┐\n",
       "│ cCRE         ┆ LGGx-TCGA-DU- ┆ LGGx-TCGA-F6- ┆ rDHS         ┆ chr  ┆ start    ┆ end      ┆ class │\n",
       "│ ---          ┆ 6395-02A-11-A ┆ A8O3-01A-31-A ┆ ---          ┆ ---  ┆ ---      ┆ ---      ┆ ---   │\n",
       "│ str          ┆ 644-…         ┆ 617-…         ┆ str          ┆ str  ┆ i64      ┆ i64      ┆ str   │\n",
       "│              ┆ ---           ┆ ---           ┆              ┆      ┆          ┆          ┆       │\n",
       "│              ┆ f64           ┆ f64           ┆              ┆      ┆          ┆          ┆       │\n",
       "╞══════════════╪═══════════════╪═══════════════╪══════════════╪══════╪══════════╪══════════╪═══════╡\n",
       "│ EH38E4223029 ┆ 3.030514      ┆ -0.943186     ┆ EH38D5212359 ┆ chr2 ┆ 91517918 ┆ 91518262 ┆ CA    │\n",
       "└──────────────┴───────────────┴───────────────┴──────────────┴──────┴──────────┴──────────┴───────┘"
      ]
     },
     "execution_count": 12,
     "metadata": {},
     "output_type": "execute_result"
    }
   ],
   "source": [
    "result.selection()  # Get the current selection of cCREs as a polars dataframe"
   ]
  },
  {
   "cell_type": "code",
   "execution_count": 14,
   "id": "868085e2",
   "metadata": {},
   "outputs": [
    {
     "data": {
      "text/html": [
       "<div><style>\n",
       ".dataframe > thead > tr,\n",
       ".dataframe > tbody > tr {\n",
       "  text-align: right;\n",
       "  white-space: pre-wrap;\n",
       "}\n",
       "</style>\n",
       "<small>shape: (1, 2)</small><table border=\"1\" class=\"dataframe\"><thead><tr><th>cCRE</th><th>LGGx-TCGA-DU-6395-02A-11-A644-42-X037-S06</th></tr><tr><td>str</td><td>f64</td></tr></thead><tbody><tr><td>&quot;EH38E4223029&quot;</td><td>3.030514</td></tr></tbody></table></div>"
      ],
      "text/plain": [
       "shape: (1, 2)\n",
       "┌──────────────┬─────────────────────────────────┐\n",
       "│ cCRE         ┆ LGGx-TCGA-DU-6395-02A-11-A644-… │\n",
       "│ ---          ┆ ---                             │\n",
       "│ str          ┆ f64                             │\n",
       "╞══════════════╪═════════════════════════════════╡\n",
       "│ EH38E4223029 ┆ 3.030514                        │\n",
       "└──────────────┴─────────────────────────────────┘"
      ]
     },
     "execution_count": 14,
     "metadata": {},
     "output_type": "execute_result"
    }
   ],
   "source": [
    "x.filter(polars.col(\"cCRE\") == \"EH38E4223029\")"
   ]
  },
  {
   "cell_type": "code",
   "execution_count": 15,
   "id": "f9459acc",
   "metadata": {},
   "outputs": [
    {
     "data": {
      "text/html": [
       "<div><style>\n",
       ".dataframe > thead > tr,\n",
       ".dataframe > tbody > tr {\n",
       "  text-align: right;\n",
       "  white-space: pre-wrap;\n",
       "}\n",
       "</style>\n",
       "<small>shape: (1, 2)</small><table border=\"1\" class=\"dataframe\"><thead><tr><th>cCRE</th><th>LGGx-TCGA-F6-A8O3-01A-31-A617-42-X013-S07</th></tr><tr><td>str</td><td>f64</td></tr></thead><tbody><tr><td>&quot;EH38E4223029&quot;</td><td>-0.943186</td></tr></tbody></table></div>"
      ],
      "text/plain": [
       "shape: (1, 2)\n",
       "┌──────────────┬─────────────────────────────────┐\n",
       "│ cCRE         ┆ LGGx-TCGA-F6-A8O3-01A-31-A617-… │\n",
       "│ ---          ┆ ---                             │\n",
       "│ str          ┆ f64                             │\n",
       "╞══════════════╪═════════════════════════════════╡\n",
       "│ EH38E4223029 ┆ -0.943186                       │\n",
       "└──────────────┴─────────────────────────────────┘"
      ]
     },
     "execution_count": 15,
     "metadata": {},
     "output_type": "execute_result"
    }
   ],
   "source": [
    "y.filter(polars.col(\"cCRE\") == \"EH38E4223029\")"
   ]
  },
  {
   "cell_type": "code",
   "execution_count": 16,
   "id": "b9bf82f8",
   "metadata": {},
   "outputs": [
    {
     "data": {
      "text/html": [
       "<div><style>\n",
       ".dataframe > thead > tr,\n",
       ".dataframe > tbody > tr {\n",
       "  text-align: right;\n",
       "  white-space: pre-wrap;\n",
       "}\n",
       "</style>\n",
       "<small>shape: (1, 6)</small><table border=\"1\" class=\"dataframe\"><thead><tr><th>cCRE</th><th>rDHS</th><th>chr</th><th>start</th><th>end</th><th>class</th></tr><tr><td>str</td><td>str</td><td>str</td><td>i64</td><td>i64</td><td>str</td></tr></thead><tbody><tr><td>&quot;EH38E4223029&quot;</td><td>&quot;EH38D5212359&quot;</td><td>&quot;chr2&quot;</td><td>91517918</td><td>91518262</td><td>&quot;CA&quot;</td></tr></tbody></table></div>"
      ],
      "text/plain": [
       "shape: (1, 6)\n",
       "┌──────────────┬──────────────┬──────┬──────────┬──────────┬───────┐\n",
       "│ cCRE         ┆ rDHS         ┆ chr  ┆ start    ┆ end      ┆ class │\n",
       "│ ---          ┆ ---          ┆ ---  ┆ ---      ┆ ---      ┆ ---   │\n",
       "│ str          ┆ str          ┆ str  ┆ i64      ┆ i64      ┆ str   │\n",
       "╞══════════════╪══════════════╪══════╪══════════╪══════════╪═══════╡\n",
       "│ EH38E4223029 ┆ EH38D5212359 ┆ chr2 ┆ 91517918 ┆ 91518262 ┆ CA    │\n",
       "└──────────────┴──────────────┴──────┴──────────┴──────────┴───────┘"
      ]
     },
     "execution_count": 16,
     "metadata": {},
     "output_type": "execute_result"
    }
   ],
   "source": [
    "metadata.filter(polars.col(\"cCRE\") == \"EH38E4223029\")"
   ]
  }
 ],
 "metadata": {
  "kernelspec": {
   "display_name": "ccre-scatter",
   "language": "python",
   "name": "python3"
  },
  "language_info": {
   "codemirror_mode": {
    "name": "ipython",
    "version": 3
   },
   "file_extension": ".py",
   "mimetype": "text/x-python",
   "name": "python",
   "nbconvert_exporter": "python",
   "pygments_lexer": "ipython3",
   "version": "3.13.3"
  }
 },
 "nbformat": 4,
 "nbformat_minor": 5
}
