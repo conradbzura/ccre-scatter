{
 "cells": [
  {
   "cell_type": "code",
   "execution_count": null,
   "id": "9343cea4",
   "metadata": {},
   "outputs": [],
   "source": [
    "from scatterplot import scatterplot\n",
    "import polars\n",
    "\n",
    "datafile = \"/Users/conrad/Projects/vedatonuryilmaz/simplex-scatter/comb_healthy_scatac_tcga_encode.parquet\"\n",
    "x = polars.read_parquet(datafile, columns=[\"cCRE\", \"Homo_sapiens_MCF_10A_treated_with_1_μM_tamoxifen_for_6_hours_ENCDO000AAP\"])\n",
    "y = polars.read_parquet(datafile, columns=[\"cCRE\", \"Homo_sapiens_epithelial_cell_of_prostate_ENCDO101AAA\"])\n",
    "metadata = polars.read_parquet(datafile, columns=[\"rDHS\", \"cCRE\", \"chr\", \"start\", \"end\", \"class\"])\n",
    "\n",
    "\n",
    "result = scatterplot(\n",
    "    x=x.to_pandas(),\n",
    "    y=y.to_pandas(),\n",
    "    metadata=metadata.to_pandas(),\n",
    "    join_column=\"cCRE\",  # This is the default\n",
    "    x_label=\"Accessibility Score\",\n",
    "    y_label=\"Expression Level\",\n",
    ")"
   ]
  }
 ],
 "metadata": {
  "kernelspec": {
   "display_name": "ccre-scatter",
   "language": "python",
   "name": "python3"
  },
  "language_info": {
   "codemirror_mode": {
    "name": "ipython",
    "version": 3
   },
   "file_extension": ".py",
   "mimetype": "text/x-python",
   "name": "python",
   "nbconvert_exporter": "python",
   "pygments_lexer": "ipython3",
   "version": "3.13.3"
  }
 },
 "nbformat": 4,
 "nbformat_minor": 5
}
